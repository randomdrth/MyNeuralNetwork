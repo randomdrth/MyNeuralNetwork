{
 "cells": [
  {
   "cell_type": "markdown",
   "id": "917d376f",
   "metadata": {},
   "source": [
    "# MNIST Digit Classification Neural Network \n",
    "# A Pure NumPy Implementation"
   ]
  },
  {
   "cell_type": "markdown",
   "id": "4afe1917",
   "metadata": {},
   "source": [
    "## First implementation"
   ]
  },
  {
   "cell_type": "code",
   "execution_count": 3,
   "id": "f518202f",
   "metadata": {},
   "outputs": [],
   "source": [
    "import numpy as np"
   ]
  },
  {
   "cell_type": "code",
   "execution_count": 4,
   "id": "cf6eafda",
   "metadata": {},
   "outputs": [],
   "source": [
    "# A feedforward neural netowrk implementation for digit classification\n",
    "# It uses ReLU activation for hidden layers and Softmax activation for the output\n",
    "class NeuralNetwork:\n",
    "    def __init__(self, input_neurons=784, hidden_layers=[512, 512], output_size=10):\n",
    "        self.input_neurons = input_neurons\n",
    "        self.hidden_layers = hidden_layers\n",
    "        self.output_size = output_size\n",
    "\n",
    "        # Lists to store the weights and biases for each layer\n",
    "        self.weights = []\n",
    "        self.biases = []\n",
    "\n",
    "        # Input to first hidden layer\n",
    "        self.weights.append(0.01 * np.random.randn(input_neurons, hidden_layers[0]))\n",
    "        self.biases.append(np.zeros((1, hidden_layers[0])))\n",
    "\n",
    "        # Hidden layer to hidden layer\n",
    "        # For each pair of hidden layers, initialize weight and bias\n",
    "        for i in range(len(hidden_layers) - 1):\n",
    "            # Weight matrix between hidden layer i and i + 1\n",
    "            self.weights.append(0.01 * np.random.randn(hidden_layers[i], hidden_layers[i+1]))\n",
    "            # Bias vector for layer i + 1\n",
    "            self.biases.append(np.zeros((1, hidden_layers[i+1])))\n",
    "        \n",
    "        # Last hidden layer to output\n",
    "        self.weights.append(0.01 * np.random.randn(hidden_layers[len(hidden_layers)-1], output_size))\n",
    "        self.biases.append(np.zeros((1, output_size)))\n",
    "\n",
    "    # Loop through all layers (hidden + output)\n",
    "    def forward(self, x_input):\n",
    "        layers = [x_input] # Initialize input to the first layer\n",
    "\n",
    "        for i in range(len(self.weights)):\n",
    "            # Linear transformation: Z = A_prev @ W + b\n",
    "            # - A_prev: activations from previous layer (or input)\n",
    "            # - W: current layer's weights\n",
    "            # - b: current layer's biases\n",
    "            z = np.dot(layers[-1], self.weights[i]) + self.biases[i]\n",
    "            layers.append(z)  # Store pre-activation values (needed for backprop)\n",
    "\n",
    "            # Activation Functions (ReLU + SoftMax)\n",
    "            if i == len(self.weights) - 1:\n",
    "                # Output layer: apply Softmax\n",
    "                # Exponentiate shifted values\n",
    "                # Normalize to get probabilities (softmax)\n",
    "                finalOutput = np.exp(layers[-1] - np.max(layers[-1], axis=1, keepdims=True))\n",
    "                finalOutput = finalOutput / np.sum(finalOutput, axis=1, keepdims=True)\n",
    "                layers.append(finalOutput)  # Append final output probabilities\n",
    "            else:\n",
    "                # Hidden layers: apply ReLU \n",
    "                # ReLU activation: max(0, z)\n",
    "                layers.append(np.maximum(0, layers[-1]))\n",
    "        \n",
    "        # Return the final layer output (Softmax probabilities)\n",
    "        return layers[-1]"
   ]
  },
  {
   "cell_type": "code",
   "execution_count": 5,
   "id": "c2f03965",
   "metadata": {},
   "outputs": [],
   "source": [
    "# LossCategoricalCrossEntropy implementation\n",
    "def LossCategoricalCrossEntropy(yPred, yTrue):\n",
    "    # If predicted class has a prediction of 0% likelihood this prevents log(0), which would be infinity\n",
    "    yPred = np.clip(yPred, 1e-10, 1 - 1e-10)\n",
    "\n",
    "    # We calculate the sum of the log losses\n",
    "    loss = -np.sum(yTrue * np.log(yPred), axis=1)\n",
    "\n",
    "    # We calculate the average loss - this depends on the number of samples\n",
    "    # So the return loss is the average loss not the summed up loss (which took me a while to understand)\n",
    "    average_loss = np.mean(loss)\n",
    "\n",
    "    return average_loss"
   ]
  },
  {
   "cell_type": "code",
   "execution_count": 6,
   "id": "3bcacbdc",
   "metadata": {},
   "outputs": [],
   "source": [
    "myNeuralNet = NeuralNetwork()"
   ]
  },
  {
   "cell_type": "code",
   "execution_count": 7,
   "id": "37bfcaed",
   "metadata": {},
   "outputs": [
    {
     "data": {
      "text/plain": [
       "array([[0.10003912, 0.09989477, 0.10003691, 0.10021514, 0.100066  ,\n",
       "        0.10007754, 0.09918882, 0.10059075, 0.09945541, 0.10043555]])"
      ]
     },
     "execution_count": 7,
     "metadata": {},
     "output_type": "execute_result"
    }
   ],
   "source": [
    "# We finally get the predicted softmax probabilities for each of the 10 classes\n",
    "result = myNeuralNet.forward(np.random.rand(1, 784))\n",
    "result"
   ]
  },
  {
   "cell_type": "markdown",
   "id": "cffd0c57",
   "metadata": {},
   "source": [
    "## Backpropogation"
   ]
  },
  {
   "cell_type": "code",
   "execution_count": 8,
   "id": "e8d7b683",
   "metadata": {},
   "outputs": [],
   "source": [
    "class NeuralNetwork:\n",
    "    def __init__(self, input_size=784, hidden_layers=[512, 512], output_size=10):\n",
    "        self.input_size = input_size\n",
    "        self.hidden_layers = hidden_layers\n",
    "        self.output_size = output_size\n",
    "        self.weights = []\n",
    "        self.biases = []\n",
    "        self.gradientsWeights = []\n",
    "        self.gradientsBiases = []\n",
    "\n",
    "        # Track number of training iterations (used for learning rate decay)\n",
    "        self.iterations = 0\n",
    "\n",
    "        # Input to first hidden layer\n",
    "        self.weights.append(0.01 * np.random.randn(input_size, hidden_layers[0]))\n",
    "        self.biases.append(np.zeros((1, hidden_layers[0])))\n",
    "\n",
    "        # Hidden layer to hidden layer\n",
    "        # For each pair of hidden layers, initialize weight and bias\n",
    "        for i in range(len(hidden_layers) - 1):\n",
    "            # Weight matrix between hidden layer i and i + 1\n",
    "            self.weights.append(0.01 * np.random.randn(hidden_layers[i], hidden_layers[i+1]))\n",
    "            # Bias vector for layer i + 1\n",
    "            self.biases.append(np.zeros((1, hidden_layers[i+1])))\n",
    "        \n",
    "        # Last hidden layer to output\n",
    "        self.weights.append(0.01 * np.random.randn(hidden_layers[len(hidden_layers)-1], output_size))\n",
    "        self.biases.append(np.zeros((1, output_size)))\n",
    "\n",
    "    def forward(self, inputs):\n",
    "        # Store outputs at each layer for use in backpropagation\n",
    "        self.outputs = [inputs]  # First element is input layer output (raw input)\n",
    "        self.outputsTesting = [\"inputs\"]  # Optional list to track layer types\n",
    "\n",
    "        # Loop through all layers\n",
    "        for i in range(len(self.weights)):\n",
    "            # Perform linear transformation: Z = A_prev @ W + b\n",
    "            linear_output = np.dot(self.outputs[-1], self.weights[i]) + self.biases[i]\n",
    "            self.outputs.append(linear_output)  # Store linear output\n",
    "            self.outputsTesting.append(\"dense\")\n",
    "\n",
    "            # Apply activation function\n",
    "            if i == len(self.weights) - 1:\n",
    "                # Output layer uses softmax activation\n",
    "                shifted_logits = linear_output - np.max(linear_output, axis=1, keepdims=True)  # for numerical stability\n",
    "                exp_values = np.exp(shifted_logits)\n",
    "                probabilities = exp_values / np.sum(exp_values, axis=1, keepdims=True)\n",
    "                self.outputs.append(probabilities)  # Final predicted probabilities\n",
    "                self.outputsTesting.append(\"softmax\")\n",
    "            else:\n",
    "                # Hidden layers use ReLU activation\n",
    "                activated_output = np.maximum(0, linear_output)\n",
    "                self.outputs.append(activated_output)\n",
    "                self.outputsTesting.append(\"relu\")\n",
    "\n",
    "        return self.outputs[-1]  # Return output of last layer (Softmax probabilities)\n",
    "        \n",
    "    # Backpropagation step to compute gradients for all layers\n",
    "    # I still don't fully understand the workings behind this\n",
    "    # For now, I have understood the code and extracted it from the nnfs textbook (https://nnfs.io/)\n",
    "    def backwards(self, y_true):\n",
    "        # Number of training examples in batch\n",
    "        samples = len(self.outputs[-1])\n",
    "\n",
    "        # If labels are one-hot encoded, convert them to discrete values\n",
    "        if len(y_true.shape) == 2:\n",
    "            print(\"Changing to discrete values\")\n",
    "            y_true = np.argmax(y_true, axis=1)\n",
    "\n",
    "        # Compute derivative of softmax + categorical crossentropy loss\n",
    "        # Let's make a copy so that we can modify safely\n",
    "        dSoftMaxCrossEntropy = self.outputs[-1].copy()\n",
    "        # Calculate gradient\n",
    "        dSoftMaxCrossEntropy[range(samples), y_true] -= 1\n",
    "        # Normalize gradient\n",
    "        dSoftMaxCrossEntropy /= samples\n",
    "        # print(dSoftMaxCrossEntropy)\n",
    "\n",
    "        # Calculate gradients -> Calcualte derivative of weights, biases, and inputs (to continue to backpropagate)\n",
    "        dInputs = np.dot(dSoftMaxCrossEntropy.copy(), self.weights[-1].T)\n",
    "        dWeights = np.dot(self.outputs[-3].T, dSoftMaxCrossEntropy.copy())\n",
    "        dBiases = np.sum(dSoftMaxCrossEntropy.copy(), axis=0, keepdims=True)\n",
    "        \n",
    "        # Store the gradients\n",
    "        self.gradientsWeights = [dWeights] + self.gradientsWeights\n",
    "        self.gradientsBiases = [dBiases] + self.gradientsBiases\n",
    "\n",
    "        # Backpropagate through hidden layers\n",
    "        i = -3  # index for linear input of previous layer\n",
    "        j = -1  # index for current weight layer\n",
    "\n",
    "        for _ in range(len(self.hidden_layers)):\n",
    "            i -= 1\n",
    "            j -= 1\n",
    "\n",
    "            # ReLU backward: zero out gradients where the activation was <= 0\n",
    "            dReLU = dInputs.copy()\n",
    "            dReLU[self.outputs[i] <= 0] = 0\n",
    "\n",
    "            # Continue backprop\n",
    "            i -= 1\n",
    "            dInputs = np.dot(dReLU, self.weights[j].T)\n",
    "            dWeights = np.dot(self.outputs[i].T, dReLU)\n",
    "            dBiases = np.sum(dReLU, axis=0, keepdims=True)\n",
    "\n",
    "            # Prepend to keep order aligned with layer sequence\n",
    "            self.gradientsWeights = [dWeights] + self.gradientsWeights\n",
    "            self.gradientsBiases = [dBiases] + self.gradientsBiases\n",
    "\n",
    "    def updateParams(self, lr=0.05, decay=1e-7):\n",
    "        # Decay the learning rate\n",
    "        lr = lr * (1. / (1. + decay * self.iterations))\n",
    "\n",
    "        # Update weights using gradient descent\n",
    "        for i in range(len(self.weights) - 1):\n",
    "            assert self.weights[i].shape == self.gradientsWeights[i].shape\n",
    "            self.weights[i] -= lr * self.gradientsWeights[i]\n",
    "\n",
    "        # Update biases using gradient descent\n",
    "        for i in range(len(self.biases) - 1):\n",
    "            assert self.biases[i].shape == self.gradientsBiases[i].shape\n",
    "            self.biases[i] -= lr * self.gradientsBiases[i]\n",
    "\n",
    "        # Increment iteration count\n",
    "        self.iterations += 1\n",
    "\n",
    "    # LossCategoricalCrossEntropy implementation\n",
    "def LossCategoricalCrossEntropy(yPred, yTrue):  \n",
    "    # If predicted class has a prediction of 0% likelihood this prevents log(0), which would be infinity\n",
    "    yPred = np.clip(yPred, 1e-10, 1 - 1e-10)\n",
    "\n",
    "    # We calculate the sum of the log losses\n",
    "    loss = -np.sum(yTrue * np.log(yPred), axis=1)\n",
    "\n",
    "    # We calculate the average loss - this depends on the number of samples\n",
    "    # So the return loss is the average loss not the summed up loss (which took me a while to understand)\n",
    "    average_loss = np.mean(loss)\n",
    "\n",
    "    return average_loss\n",
    "\n",
    "# Utility: convert class indices to one-hot encoded labels\n",
    "def sparse_to_one_hot(sparse_labels, num_classes):\n",
    "    one_hot_encoded = np.zeros((len(sparse_labels), num_classes))\n",
    "    one_hot_encoded[np.arange(len(sparse_labels)), sparse_labels] = 1\n",
    "    return one_hot_encoded"
   ]
  },
  {
   "cell_type": "code",
   "execution_count": 9,
   "id": "2649f553",
   "metadata": {},
   "outputs": [],
   "source": [
    "myNeuralNet = NeuralNetwork(hidden_layers=[128, 128])"
   ]
  },
  {
   "cell_type": "code",
   "execution_count": 10,
   "id": "046f829d",
   "metadata": {},
   "outputs": [],
   "source": [
    "import gzip\n",
    "\n",
    "# Load MNIST dataset from Yann LeCun's official MNIST page (http://yann.lecun.com/exdb/mnist/)\n",
    "def extract_images(filename):\n",
    "    with gzip.open(filename, 'rb') as f:\n",
    "        magic, num, rows, cols = np.frombuffer(f.read(16), dtype=np.uint32, count=4).byteswap()\n",
    "        images = np.frombuffer(f.read(), dtype=np.uint8).reshape(num, rows, cols)\n",
    "    return images\n",
    "\n",
    "def extract_labels(filename):\n",
    "    with gzip.open(filename, 'rb') as f:\n",
    "        magic, num = np.frombuffer(f.read(8), dtype=np.uint32, count=2).byteswap()\n",
    "        labels = np.frombuffer(f.read(), dtype=np.uint8)\n",
    "    return labels\n",
    "\n",
    "train_images = extract_images(\"./MNISTdata/train-images-idx3-ubyte.gz\")\n",
    "train_labels = extract_labels(\"./MNISTdata/train-labels-idx1-ubyte.gz\")\n",
    "test_images = extract_images(\"./MNISTdata/t10k-images-idx3-ubyte.gz\")\n",
    "test_labels = extract_labels(\"./MNISTdata/t10k-labels-idx1-ubyte.gz\")"
   ]
  },
  {
   "cell_type": "markdown",
   "id": "f9edba6e",
   "metadata": {},
   "source": [
    "## MNIST Training"
   ]
  },
  {
   "cell_type": "code",
   "execution_count": 11,
   "id": "6cc5bed2",
   "metadata": {},
   "outputs": [
    {
     "name": "stdout",
     "output_type": "stream",
     "text": [
      "epoch: 1\n",
      "epoch: 1, acc: 0.094, loss: 2.303\n",
      "epoch: 1, acc: 0.438, loss: 1.491\n",
      "epoch: 1, acc: 0.750, loss: 0.849\n",
      "epoch: 1, acc: 0.781, loss: 0.646\n",
      "epoch: 1, acc: 0.906, loss: 0.391\n",
      "epoch: 1, acc: 0.844, loss: 0.548\n",
      "epoch: 1, acc: 0.875, loss: 0.297\n",
      "epoch: 1, acc: 0.969, loss: 0.191\n",
      "epoch: 1, acc: 0.844, loss: 0.310\n",
      "epoch: 1, acc: 0.969, loss: 0.181\n",
      "epoch: 1, acc: 0.875, loss: 0.388\n",
      "epoch: 1, acc: 0.906, loss: 0.404\n",
      "epoch: 1, acc: 0.938, loss: 0.201\n",
      "epoch: 1, acc: 0.875, loss: 0.358\n",
      "epoch: 1, acc: 0.875, loss: 0.286\n",
      "epoch: 1, acc: 0.906, loss: 0.261\n",
      "epoch: 1, acc: 0.875, loss: 0.328\n",
      "epoch: 1, acc: 0.906, loss: 0.226\n",
      "epoch: 1, acc: 0.938, loss: 0.220\n",
      "epoch: 2\n",
      "epoch: 2, acc: 0.938, loss: 0.184\n",
      "epoch: 2, acc: 0.844, loss: 0.353\n",
      "epoch: 2, acc: 0.906, loss: 0.225\n",
      "epoch: 2, acc: 1.000, loss: 0.055\n",
      "epoch: 2, acc: 0.969, loss: 0.176\n",
      "epoch: 2, acc: 0.906, loss: 0.220\n",
      "epoch: 2, acc: 0.906, loss: 0.191\n",
      "epoch: 2, acc: 0.969, loss: 0.094\n",
      "epoch: 2, acc: 0.938, loss: 0.166\n",
      "epoch: 2, acc: 0.969, loss: 0.113\n",
      "epoch: 2, acc: 0.875, loss: 0.338\n",
      "epoch: 2, acc: 0.906, loss: 0.230\n",
      "epoch: 2, acc: 0.969, loss: 0.166\n",
      "epoch: 2, acc: 0.875, loss: 0.286\n",
      "epoch: 2, acc: 0.875, loss: 0.272\n",
      "epoch: 2, acc: 0.906, loss: 0.186\n",
      "epoch: 2, acc: 0.938, loss: 0.162\n",
      "epoch: 2, acc: 0.969, loss: 0.112\n",
      "epoch: 2, acc: 0.938, loss: 0.167\n"
     ]
    }
   ],
   "source": [
    "data = train_images\n",
    "dataLabels = train_labels\n",
    "\n",
    "# Let's normalize the pixel values for the NN to learn faster\n",
    "data = (data.astype(np.float32)-127.5)/127.5\n",
    "data = data.reshape(60000, 784)\n",
    "\n",
    "accuracies = []\n",
    "losses = []\n",
    "\n",
    "BATCH_SIZE = 32\n",
    "\n",
    "# Main training loop\n",
    "for epoch in range(1, 3):\n",
    "    print(f'epoch: {epoch}')\n",
    "    # Calculate how many steps (mini-batches) there are in each epoch\n",
    "    train_steps = len(data) // BATCH_SIZE \n",
    "\n",
    "    for step in range(train_steps):\n",
    "        # Slice the current batch of 32 images and corresponding labels using step index\n",
    "        batch_X = data[step*BATCH_SIZE:(step+1)*BATCH_SIZE]\n",
    "        batch_Y = dataLabels[step*BATCH_SIZE:(step+1)*BATCH_SIZE]\n",
    "\n",
    "        X = batch_X\n",
    "        Y = batch_Y\n",
    "\n",
    "        # Perform forward pass \n",
    "        output = myNeuralNet.forward(X)\n",
    "\n",
    "        # Evaluate the model every 100 steps\n",
    "        if step % 100 == 0:\n",
    "            # Take the class with the highest predicted prob for each image in the batch\n",
    "            predictions = np.argmax(output, axis=1)\n",
    "            if len(Y.shape) == 2:\n",
    "                Y = np.argmax(Y, axis=1)\n",
    "            accuracy = np.mean(predictions == Y)\n",
    "            \n",
    "            loss = LossCategoricalCrossEntropy(output, sparse_to_one_hot(Y, 10))\n",
    "            accuracies.append(accuracy)\n",
    "            losses.append(loss)\n",
    "\n",
    "            print(f'epoch: {epoch}, ' +\n",
    "                    f'acc: {accuracy:.3f}, ' +\n",
    "                    f'loss: {loss:.3f}')\n",
    "\n",
    "        # Backward pass\n",
    "        myNeuralNet.backwards(Y)\n",
    "\n",
    "        # Update weights and biases\n",
    "        myNeuralNet.updateParams(lr=0.5, decay=1e-6)\n",
    "            "
   ]
  },
  {
   "cell_type": "code",
   "execution_count": 12,
   "id": "153d9a10",
   "metadata": {},
   "outputs": [
    {
     "name": "stdout",
     "output_type": "stream",
     "text": [
      "(10000, 28, 28)\n",
      "0.943\n"
     ]
    }
   ],
   "source": [
    "dataTest = test_images\n",
    "dataTestLabels = test_labels\n",
    "\n",
    "# Normalize again\n",
    "dataTest = (dataTest.astype(np.float32)-127.5)/127.5\n",
    "\n",
    "print(dataTest.shape) # (10000, 28, 28)\n",
    "dataTest = dataTest.reshape(10000, 784)\n",
    "\n",
    "X = dataTest\n",
    "Y = dataTestLabels\n",
    "\n",
    "output = myNeuralNet.forward(dataTest)\n",
    "\n",
    "# Convert the softmax outputs into discrete class predictions (0-9)\n",
    "predictions = np.argmax(output, axis=1)\n",
    "if len(Y.shape) == 2:\n",
    "    Y = np.argmax(Y, axis=1)\n",
    "\n",
    "accuracy = np.mean(predictions == Y)\n",
    "print(accuracy)"
   ]
  },
  {
   "cell_type": "markdown",
   "id": "edbfc530",
   "metadata": {},
   "source": [
    "### Plotting training metrics"
   ]
  },
  {
   "cell_type": "code",
   "execution_count": 13,
   "id": "d2319ec8",
   "metadata": {},
   "outputs": [
    {
     "data": {
      "text/plain": [
       "Text(0, 0.5, 'Value')"
      ]
     },
     "execution_count": 13,
     "metadata": {},
     "output_type": "execute_result"
    },
    {
     "data": {
      "image/png": "[encoded data removed]",
      "text/plain": [
       "<Figure size 640x480 with 1 Axes>"
      ]
     },
     "metadata": {},
     "output_type": "display_data"
    }
   ],
   "source": [
    "import matplotlib.pyplot as plt\n",
    "\n",
    "plt.plot(losses, label = 'Loss')\n",
    "plt.plot(accuracies, label = 'Accuracy')\n",
    "plt.legend()\n",
    "plt.title('Training Loss and Accuracy')\n",
    "plt.xlabel('Training Steps (every 100)')\n",
    "plt.ylabel('Value')"
   ]
  },
  {
   "cell_type": "markdown",
   "id": "0d878ccd",
   "metadata": {},
   "source": [
    "Loss Curve (blue): The loss decreases steeply at first, which is expected as the model quickly learns the basic structure of the data. It then continues to decline more slowly with some fluctuation, indicating continued (but slower) learning and possible overfitting or noisy batches.\n",
    "\n",
    "Accuracy Curve (orange): The accuracy increases quickly and then plateaus around 90%, which is a good sign of convergence. The relatively flat plateau suggests the model is reaching its performance ceiling for the current training setup."
   ]
  },
  {
   "cell_type": "markdown",
   "id": "1aadc840",
   "metadata": {},
   "source": [
    "### Testing"
   ]
  },
  {
   "cell_type": "code",
   "execution_count": 14,
   "id": "f3764424",
   "metadata": {},
   "outputs": [
    {
     "name": "stdout",
     "output_type": "stream",
     "text": [
      "Probabilities: [[9.99893144e-01 2.48227392e-10 9.52608433e-06 2.87393651e-07\n",
      "  3.26044011e-08 5.81549747e-05 3.65946842e-05 3.66647608e-07\n",
      "  1.07653888e-06 8.16593477e-07]]\n",
      "Prediction: [0]\n"
     ]
    },
    {
     "data": {
      "text/plain": [
       "<matplotlib.image.AxesImage at 0x12b728590>"
      ]
     },
     "execution_count": 14,
     "metadata": {},
     "output_type": "execute_result"
    },
    {
     "data": {
      "image/png": "[encoded data removed]",
      "text/plain": [
       "<Figure size 640x480 with 1 Axes>"
      ]
     },
     "metadata": {},
     "output_type": "display_data"
    }
   ],
   "source": [
    "import matplotlib.pyplot as mp\n",
    "dataTest = test_images\n",
    "dataTestLabels = test_labels\n",
    "\n",
    "# Normalize\n",
    "dataTest = (dataTest.astype(np.float32)-127.5)/127.5\n",
    "dataTest = dataTest.reshape(10000, 784)\n",
    "\n",
    "X = dataTest[71]\n",
    "y = dataTestLabels[71]\n",
    "\n",
    "output = myNeuralNet.forward(X)\n",
    "print(f\"Probabilities: {output}\")\n",
    "\n",
    "prediction = np.argmax(output, axis=1)\n",
    "print(f\"Prediction: {prediction}\")\n",
    "\n",
    "mp.imshow(X.reshape(28, 28))"
   ]
  },
  {
   "cell_type": "code",
   "execution_count": 15,
   "id": "87ec1973",
   "metadata": {},
   "outputs": [
    {
     "name": "stdout",
     "output_type": "stream",
     "text": [
      "Probabilities: [[7.54767436e-05 2.44192858e-06 3.23704347e-06 2.02253052e-04\n",
      "  7.61827405e-05 9.98576885e-01 8.52263327e-04 1.56484732e-07\n",
      "  5.31908864e-05 1.57912440e-04]]\n",
      "Prediction: [5]\n"
     ]
    },
    {
     "data": {
      "text/plain": [
       "<matplotlib.image.AxesImage at 0x12b7e7cb0>"
      ]
     },
     "execution_count": 15,
     "metadata": {},
     "output_type": "execute_result"
    },
    {
     "data": {
      "image/png": "[encoded data removed]",
      "text/plain": [
       "<Figure size 640x480 with 1 Axes>"
      ]
     },
     "metadata": {},
     "output_type": "display_data"
    }
   ],
   "source": [
    "X = dataTest[23]\n",
    "y = dataTestLabels[23]\n",
    "\n",
    "output = myNeuralNet.forward(X)\n",
    "print(f\"Probabilities: {output}\")\n",
    "\n",
    "prediction = np.argmax(output, axis=1)\n",
    "print(f\"Prediction: {prediction}\")\n",
    "\n",
    "mp.imshow(X.reshape(28, 28))"
   ]
  },
  {
   "cell_type": "markdown",
   "id": "1c2e9bc3",
   "metadata": {},
   "source": [
    " In this specific example, the model predicted the digit 5 and the visualized image clearly resembles a handwritten 5. The prediction confidence is also high!\n",
    " \n",
    " Notice how the probability for class 5 is approximately 0.9985, while all other class probabilities are near zero. This indicates that our model has learned to distinguish digit patterns well and is confident in its classification. The smooth convergence shown in our earlier training loss and accuracy plot also supports this result."
   ]
  },
  {
   "cell_type": "code",
   "execution_count": 16,
   "id": "da88971f",
   "metadata": {},
   "outputs": [
    {
     "name": "stdout",
     "output_type": "stream",
     "text": [
      "Probabilities: [[4.98202601e-05 2.26270397e-05 2.59312246e-04 4.51385908e-03\n",
      "  6.26483631e-03 4.68737628e-02 3.90375441e-04 5.79078084e-04\n",
      "  2.61986206e-03 9.38426467e-01]]\n",
      "Prediction: [9]\n"
     ]
    },
    {
     "data": {
      "image/png": "[encoded data removed]",
      "text/plain": [
       "<Figure size 640x480 with 1 Axes>"
      ]
     },
     "metadata": {},
     "output_type": "display_data"
    }
   ],
   "source": [
    "# This code scans through the test data (starting from index 100) to find the first digit '9' that the model correctly predicts, prints its predicted probabilities, \n",
    "# and displays the image. It's a quick sanity check to visually confirm the model's ability to correctly identify a specific digit class.\n",
    "\n",
    "split = dataTest[100:]\n",
    "splitLabels = dataTestLabels[100:]\n",
    "for i in range(len(dataTest)):\n",
    "    X = split[i]\n",
    "    y = splitLabels[i]\n",
    "\n",
    "    output = myNeuralNet.forward(X)\n",
    "    prediction = np.argmax(output, axis=1)\n",
    "    if y == 9:\n",
    "        if prediction[0] == y:\n",
    "            print(f\"Probabilities: {output}\")\n",
    "            print(f\"Prediction: {prediction}\")\n",
    "\n",
    "            mp.imshow(X.reshape(28, 28))\n",
    "            break"
   ]
  },
  {
   "cell_type": "code",
   "execution_count": 17,
   "id": "203065ca",
   "metadata": {},
   "outputs": [
    {
     "data": {
      "image/png": "[encoded data removed]",
      "text/plain": [
       "<Figure size 1000x800 with 12 Axes>"
      ]
     },
     "metadata": {},
     "output_type": "display_data"
    }
   ],
   "source": [
    "# Let us now identify the first 12 misclassified images from the dataset\n",
    "\n",
    "# Initialize lists to store misclassified examples\n",
    "incorrect_images = []\n",
    "incorrect_labels = []\n",
    "incorrect_predictions = []\n",
    "\n",
    "# Loop over the entire test dataset\n",
    "for i in range(len(dataTest)):\n",
    "    X = dataTest[i]                      \n",
    "    y = dataTestLabels[i]               \n",
    "\n",
    "    output = myNeuralNet.forward(X)     # Run forward pass through the neural network\n",
    "    prediction = np.argmax(output, axis=1)  # Convert output probabilities to predicted class\n",
    "\n",
    "    # If the prediction is incorrect, store the example\n",
    "    if prediction[0] != y:\n",
    "        incorrect_images.append(X)              \n",
    "        incorrect_labels.append(y)              \n",
    "        incorrect_predictions.append(prediction[0])\n",
    "\n",
    "        if len(incorrect_images) == 12:  \n",
    "            break\n",
    "\n",
    "# Set up a 3x4 grid for displaying 12 misclassified images\n",
    "fig, axes = plt.subplots(3, 4, figsize=(10, 8))\n",
    "axes = axes.ravel()  # Flatten the grid to a 1D list for easy iteration\n",
    "\n",
    "# Plot each misclassified image\n",
    "for i in range(12):\n",
    "    axes[i].imshow(incorrect_images[i].reshape(28, 28), cmap='gray')  \n",
    "    axes[i].set_title(f'True: {incorrect_labels[i]}, Pred: {incorrect_predictions[i]}')  \n",
    "    axes[i].axis('off')  # Hide axis ticks for cleaner display\n",
    "\n",
    "plt.tight_layout()  \n",
    "plt.show()          \n"
   ]
  },
  {
   "cell_type": "markdown",
   "id": "51269590",
   "metadata": {},
   "source": [
    "### Fasion MNIST\n",
    "\n",
    "Let's take it a step further and test our neural network with the Fashion MNIST dataset"
   ]
  },
  {
   "cell_type": "code",
   "execution_count": 18,
   "id": "bcd761da",
   "metadata": {},
   "outputs": [],
   "source": [
    "# Download commands to get Fashion MNIST data (uncomment to run in notebook if needed)\n",
    "# !wget http://fashion-mnist.s3-website.eu-central-1.amazonaws.com/train-images-idx3-ubyte.gz -P ./fashionMNIST/\n",
    "# !wget http://fashion-mnist.s3-website.eu-central-1.amazonaws.com/train-labels-idx1-ubyte.gz -P ./fashionMNIST/\n",
    "# !wget http://fashion-mnist.s3-website.eu-central-1.amazonaws.com/t10k-images-idx3-ubyte.gz -P ./fashionMNIST/\n",
    "# !wget http://fashion-mnist.s3-website.eu-central-1.amazonaws.com/t10k-labels-idx1-ubyte.gz -P ./fashionMNIST/\n"
   ]
  },
  {
   "cell_type": "code",
   "execution_count": 19,
   "id": "69697b45",
   "metadata": {},
   "outputs": [],
   "source": [
    "# Utilized GPT to help generate the following code\n",
    "def load_mnist(path, kind='train'):\n",
    "    import os\n",
    "    import gzip\n",
    "    import numpy as np\n",
    "\n",
    "    \"\"\"Load MNIST (or Fashion MNIST) data from the specified path\"\"\"\n",
    "    \n",
    "    # Construct file paths for the label and image files (gzip compressed)\n",
    "    labels_path = os.path.join(path, '%s-labels-idx1-ubyte.gz' % kind)\n",
    "    images_path = os.path.join(path, '%s-images-idx3-ubyte.gz' % kind)\n",
    "\n",
    "    # Read and decode the label data (skip the first 8 bytes for header info)\n",
    "    with gzip.open(labels_path, 'rb') as lbpath:\n",
    "        labels = np.frombuffer(lbpath.read(), dtype=np.uint8, offset=8)\n",
    "\n",
    "    # Read and decode the image data (skip first 16 bytes, then reshape to 784 pixels)\n",
    "    with gzip.open(images_path, 'rb') as imgpath:\n",
    "        images = np.frombuffer(imgpath.read(), dtype=np.uint8, offset=16).reshape(len(labels), 784)\n",
    "\n",
    "    return images, labels\n"
   ]
  },
  {
   "cell_type": "code",
   "execution_count": 20,
   "id": "7acd9416",
   "metadata": {},
   "outputs": [],
   "source": [
    "X_train, y_train = load_mnist('fashionMNIST', kind='train')\n",
    "X_test, y_test = load_mnist('fashionMNIST', kind='t10k')\n",
    "\n",
    "modelFashionMNIST = NeuralNetwork(hidden_layers=[256, 256])"
   ]
  },
  {
   "cell_type": "code",
   "execution_count": 21,
   "id": "a043ff68",
   "metadata": {},
   "outputs": [],
   "source": [
    "data = X_train\n",
    "dataLabels = y_train\n",
    "\n",
    "# Normalize the input data to the range [-1, 1]\n",
    "data = (data.astype(np.float32)-127.5)/127.5\n",
    "\n",
    "# Flatten the images into 784-length vectors\n",
    "data = data.reshape(60000, 784)\n",
    "\n",
    "accuracies = []\n",
    "losses = []"
   ]
  },
  {
   "cell_type": "code",
   "execution_count": null,
   "id": "455d885f",
   "metadata": {},
   "outputs": [
    {
     "name": "stdout",
     "output_type": "stream",
     "text": [
      "epoch: 1\n",
      "epoch: 1, acc: 0.031, loss: 2.303\n",
      "epoch: 1, acc: 0.562, loss: 0.993\n",
      "epoch: 1, acc: 0.812, loss: 0.477\n",
      "epoch: 1, acc: 0.781, loss: 0.807\n",
      "epoch: 1, acc: 0.844, loss: 0.503\n",
      "epoch: 1, acc: 0.656, loss: 0.919\n",
      "epoch: 1, acc: 0.844, loss: 0.447\n",
      "epoch: 1, acc: 0.875, loss: 0.304\n",
      "epoch: 1, acc: 0.812, loss: 0.461\n",
      "epoch: 1, acc: 0.844, loss: 0.472\n",
      "epoch: 1, acc: 0.781, loss: 0.534\n",
      "epoch: 1, acc: 0.812, loss: 0.458\n",
      "epoch: 1, acc: 0.844, loss: 0.467\n",
      "epoch: 1, acc: 0.719, loss: 0.710\n",
      "epoch: 1, acc: 0.750, loss: 0.597\n",
      "epoch: 1, acc: 0.812, loss: 0.397\n",
      "epoch: 1, acc: 0.812, loss: 0.568\n",
      "epoch: 1, acc: 0.812, loss: 0.488\n",
      "epoch: 1, acc: 0.750, loss: 0.466\n",
      "epoch: 2\n",
      "epoch: 2, acc: 0.875, loss: 0.310\n",
      "epoch: 2, acc: 0.781, loss: 0.402\n",
      "epoch: 2, acc: 0.938, loss: 0.249\n",
      "epoch: 2, acc: 0.812, loss: 0.550\n",
      "epoch: 2, acc: 0.906, loss: 0.344\n",
      "epoch: 2, acc: 0.844, loss: 0.758\n",
      "epoch: 2, acc: 0.875, loss: 0.322\n",
      "epoch: 2, acc: 0.938, loss: 0.219\n",
      "epoch: 2, acc: 0.875, loss: 0.345\n",
      "epoch: 2, acc: 0.906, loss: 0.361\n",
      "epoch: 2, acc: 0.781, loss: 0.533\n",
      "epoch: 2, acc: 0.781, loss: 0.435\n",
      "epoch: 2, acc: 0.812, loss: 0.373\n",
      "epoch: 2, acc: 0.719, loss: 0.584\n",
      "epoch: 2, acc: 0.781, loss: 0.512\n",
      "epoch: 2, acc: 0.875, loss: 0.357\n",
      "epoch: 2, acc: 0.844, loss: 0.429\n",
      "epoch: 2, acc: 0.844, loss: 0.445\n",
      "epoch: 2, acc: 0.719, loss: 0.438\n"
     ]
    }
   ],
   "source": [
    "BATCH_SIZE = 32\n",
    "\n",
    "# This is the main training loop\n",
    "# Train for 2 epochs\n",
    "for epoch in range(1, 3):\n",
    "    print(f'epoch: {epoch}')\n",
    "    train_steps = len(data) // BATCH_SIZE  # Total training steps per epoch\n",
    "\n",
    "    for step in range(train_steps):\n",
    "        # Get mini-batch\n",
    "        batch_X = data[step*BATCH_SIZE:(step+1)*BATCH_SIZE]\n",
    "        batch_y = dataLabels[step*BATCH_SIZE:(step+1)*BATCH_SIZE]\n",
    "\n",
    "        X = batch_X\n",
    "        y = batch_y\n",
    "\n",
    "        output = modelFashionMNIST.forward(X)  # Forward pass\n",
    "\n",
    "        # Every 100 steps, evaluate accuracy and loss\n",
    "        if step % 100 == 0:\n",
    "            predictions = np.argmax(output, axis=1)\n",
    "            if len(y.shape) == 2:\n",
    "                y = np.argmax(y, axis=1)\n",
    "            accuracy = np.mean(predictions == y)\n",
    "\n",
    "            loss = LossCategoricalCrossEntropy(output, sparse_to_one_hot(y, 10))\n",
    "            accuracies.append(accuracy)\n",
    "            losses.append(loss)\n",
    "\n",
    "            print(f'epoch: {epoch}, ' +\n",
    "                  f'acc: {accuracy:.3f}, ' +\n",
    "                  f'loss: {loss:.3f}')\n",
    "\n",
    "        # Backward pass \n",
    "        modelFashionMNIST.backwards(y)\n",
    "        # Updating weights and biases\n",
    "        modelFashionMNIST.updateParams(lr=0.8, decay=1e-6)\n"
   ]
  },
  {
   "cell_type": "code",
   "execution_count": 23,
   "id": "0baf09d8",
   "metadata": {},
   "outputs": [
    {
     "name": "stdout",
     "output_type": "stream",
     "text": [
      "(10000, 784)\n",
      "0.8572\n"
     ]
    }
   ],
   "source": [
    "dataTest = X_test\n",
    "dataTestLabels = y_test\n",
    "\n",
    "# Normalize\n",
    "dataTest = (dataTest.astype(np.float32)-127.5)/127.5\n",
    "print(dataTest.shape)\n",
    "dataTest = dataTest.reshape(10000, 784)\n",
    "\n",
    "X = dataTest\n",
    "y = dataTestLabels\n",
    "\n",
    "output = modelFashionMNIST.forward(dataTest)\n",
    "\n",
    "predictions = np.argmax(output, axis=1)\n",
    "if len(y.shape) == 2:\n",
    "    y = np.argmax(y, axis=1)\n",
    "accuracy = np.mean(predictions==y)\n",
    "print(accuracy)"
   ]
  },
  {
   "cell_type": "markdown",
   "id": "833423e9",
   "metadata": {},
   "source": [
    "### Testing\n",
    "Let's now test our NN on how effective it is identifying items of clothing"
   ]
  },
  {
   "cell_type": "code",
   "execution_count": 24,
   "id": "125a3f86",
   "metadata": {},
   "outputs": [
    {
     "name": "stdout",
     "output_type": "stream",
     "text": [
      "Probabilities: [[6.02459164e-07 1.21792866e-07 1.48096855e-07 1.46268353e-07\n",
      "  2.03252576e-08 1.55077583e-04 6.15220991e-08 9.09968180e-03\n",
      "  9.39295947e-05 9.90650211e-01]]\n",
      "Label: 9\n",
      "Prediction: [9]\n"
     ]
    },
    {
     "data": {
      "text/plain": [
       "<matplotlib.image.AxesImage at 0x12b72a990>"
      ]
     },
     "execution_count": 24,
     "metadata": {},
     "output_type": "execute_result"
    },
    {
     "data": {
      "image/png": "[encoded data removed]",
      "text/plain": [
       "<Figure size 640x480 with 1 Axes>"
      ]
     },
     "metadata": {},
     "output_type": "display_data"
    }
   ],
   "source": [
    "X = dataTest[234]\n",
    "y = dataTestLabels[234]\n",
    "\n",
    "output = modelFashionMNIST.forward(X)\n",
    "print(f\"Probabilities: {output}\")\n",
    "\n",
    "prediction = np.argmax(output, axis=1)\n",
    "print(f\"Label: {y}\")\n",
    "print(f\"Prediction: {prediction}\")\n",
    "\n",
    "mp.imshow(X.reshape(28, 28))"
   ]
  },
  {
   "cell_type": "code",
   "execution_count": 26,
   "id": "e2ca1a0d",
   "metadata": {},
   "outputs": [
    {
     "name": "stdout",
     "output_type": "stream",
     "text": [
      "Probabilities: [[5.05791437e-08 9.99999621e-01 5.57748775e-10 3.20934732e-07\n",
      "  6.34811363e-09 2.35874219e-12 1.28592076e-10 4.54425184e-12\n",
      "  8.92923603e-12 2.87368506e-12]]\n",
      "Label: 1\n",
      "Prediction: [1]\n"
     ]
    },
    {
     "data": {
      "text/plain": [
       "<matplotlib.image.AxesImage at 0x13f2d4f20>"
      ]
     },
     "execution_count": 26,
     "metadata": {},
     "output_type": "execute_result"
    },
    {
     "data": {
      "image/png": "[encoded data removed]",
      "text/plain": [
       "<Figure size 640x480 with 1 Axes>"
      ]
     },
     "metadata": {},
     "output_type": "display_data"
    }
   ],
   "source": [
    "X = dataTest[543]\n",
    "y = dataTestLabels[543]\n",
    "\n",
    "output = modelFashionMNIST.forward(X)\n",
    "print(f\"Probabilities: {output}\")\n",
    "\n",
    "prediction = np.argmax(output, axis=1)\n",
    "print(f\"Label: {y}\")\n",
    "print(f\"Prediction: {prediction}\")\n",
    "\n",
    "mp.imshow(X.reshape(28, 28))"
   ]
  },
  {
   "cell_type": "code",
   "execution_count": null,
   "id": "471a4a5f",
   "metadata": {},
   "outputs": [],
   "source": []
  }
 ],
 "metadata": {
  "kernelspec": {
   "display_name": "ml",
   "language": "python",
   "name": "python3"
  },
  "language_info": {
   "codemirror_mode": {
    "name": "ipython",
    "version": 3
   },
   "file_extension": ".py",
   "mimetype": "text/x-python",
   "name": "python",
   "nbconvert_exporter": "python",
   "pygments_lexer": "ipython3",
   "version": "3.12.11"
  }
 },
 "nbformat": 4,
 "nbformat_minor": 5
}
