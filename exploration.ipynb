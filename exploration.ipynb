{
 "cells": [
  {
   "cell_type": "markdown",
   "id": "917d376f",
   "metadata": {},
   "source": [
    "## MNIST Digit Classification Neural Network \n",
    "## A Pure NumPy Implementation"
   ]
  },
  {
   "cell_type": "markdown",
   "id": "4afe1917",
   "metadata": {},
   "source": [
    "### First implementation"
   ]
  },
  {
   "cell_type": "code",
   "execution_count": 1,
   "id": "f518202f",
   "metadata": {},
   "outputs": [],
   "source": [
    "import numpy as np"
   ]
  },
  {
   "cell_type": "code",
   "execution_count": 6,
   "id": "cf6eafda",
   "metadata": {},
   "outputs": [],
   "source": [
    "# A feedforward neural netowrk implementation for digit classification\n",
    "# It uses ReLU activation for hidden layers and Softmax activation for the output\n",
    "class NeuralNetwork:\n",
    "    def __init__(self, input_neurons=784, hidden_layers=[512, 512], output_size=10):\n",
    "        self.input_neurons = input_neurons\n",
    "        self.hidden_layers = hidden_layers\n",
    "        self.output_size = output_size\n",
    "\n",
    "        # Lists to store the weights and biases for each layer\n",
    "        self.weights = []\n",
    "        self.biases = []\n",
    "\n",
    "        # Input to first hidden layer\n",
    "        self.weights.append(0.01 * np.random.randn(input_neurons, hidden_layers[0]))\n",
    "        self.biases.append(np.zeros((1, hidden_layers[0])))\n",
    "\n",
    "        # Hidden layer to hidden layer\n",
    "        # For each pair of hidden layers, initialize weight and bias\n",
    "        for i in range(len(hidden_layers) - 1):\n",
    "            # Weight matrix between hidden layer i and i + 1\n",
    "            self.weights.append(0.01 * np.random.randn(hidden_layers[i], hidden_layers[i+1]))\n",
    "            # Bias vector for layer i + 1\n",
    "            self.biases.append(np.zeros((1, hidden_layers[i+1])))\n",
    "        \n",
    "        # Last hidden layer to output\n",
    "        self.weights.append(0.01 * np.random.randn(hidden_layers[len(hidden_layers)-1], output_size))\n",
    "        self.biases.append(np.zeros((1, output_size)))\n",
    "\n",
    "    # Loop through all layers (hidden + output)\n",
    "    def forward(self, x_input):\n",
    "        layers = [x_input] # Initialize input to the first layer\n",
    "\n",
    "        for i in range(len(self.weights)):\n",
    "            # Linear transformation: Z = A_prev @ W + b\n",
    "            # - A_prev: activations from previous layer (or input)\n",
    "            # - W: current layer's weights\n",
    "            # - b: current layer's biases\n",
    "            z = np.dot(layers[-1], self.weights[i]) + self.biases[i]\n",
    "            layers.append(z)  # Store pre-activation values (needed for backprop)\n",
    "\n",
    "            # Activation Functions (ReLU + SoftMax)\n",
    "            if i == len(self.weights) - 1:\n",
    "                # Output layer: apply Softmax\n",
    "                # Exponentiate shifted values\n",
    "                # Normalize to get probabilities (softmax)\n",
    "                finalOutput = np.exp(layers[-1] - np.max(layers[-1], axis=1, keepdims=True))\n",
    "                finalOutput = finalOutput / np.sum(finalOutput, axis=1, keepdims=True)\n",
    "                layers.append(finalOutput)  # Append final output probabilities\n",
    "            else:\n",
    "                # Hidden layers: apply ReLU \n",
    "                # ReLU activation: max(0, z)\n",
    "                layers.append(np.maximum(0, layers[-1]))\n",
    "        \n",
    "        # Return the final layer output (Softmax probabilities)\n",
    "        return layers[-1]"
   ]
  },
  {
   "cell_type": "code",
   "execution_count": 7,
   "id": "c2f03965",
   "metadata": {},
   "outputs": [],
   "source": [
    "# LossCategoricalCrossEntropy implementation\n",
    "def LossCategoricalCrossEntropy(yPred, yTrue):\n",
    "    # If predicted class has a prediction of 0% likelihood this prevents log(0), which would be infinity\n",
    "    yPred = np.clip(yPred, 1e-10, 1 - 1e-10)\n",
    "\n",
    "    # We calculate the sum of the log losses\n",
    "    loss = -np.sum(yTrue * np.log(yPred), axis=1)\n",
    "\n",
    "    # We calculate the average loss - this depends on the number of samples\n",
    "    # So the return loss is the average loss not the summed up loss (which took me a while to understand)\n",
    "    average_loss = np.mean(loss)\n",
    "\n",
    "    return average_loss"
   ]
  },
  {
   "cell_type": "code",
   "execution_count": 8,
   "id": "3bcacbdc",
   "metadata": {},
   "outputs": [],
   "source": [
    "myNeuralNet = NeuralNetwork()"
   ]
  },
  {
   "cell_type": "code",
   "execution_count": 9,
   "id": "37bfcaed",
   "metadata": {},
   "outputs": [
    {
     "data": {
      "text/plain": [
       "array([[0.1001581 , 0.09964019, 0.10055926, 0.09988822, 0.09950752,\n",
       "        0.10033094, 0.09959257, 0.1002767 , 0.09990941, 0.1001371 ]])"
      ]
     },
     "execution_count": 9,
     "metadata": {},
     "output_type": "execute_result"
    }
   ],
   "source": [
    "result = myNeuralNet.forward(np.random.rand(1, 784))\n",
    "result"
   ]
  },
  {
   "cell_type": "markdown",
   "id": "cffd0c57",
   "metadata": {},
   "source": [
    "### Backpropogation"
   ]
  },
  {
   "cell_type": "markdown",
   "id": "f999ad19",
   "metadata": {},
   "source": []
  }
 ],
 "metadata": {
  "kernelspec": {
   "display_name": "ml",
   "language": "python",
   "name": "python3"
  },
  "language_info": {
   "codemirror_mode": {
    "name": "ipython",
    "version": 3
   },
   "file_extension": ".py",
   "mimetype": "text/x-python",
   "name": "python",
   "nbconvert_exporter": "python",
   "pygments_lexer": "ipython3",
   "version": "3.12.11"
  }
 },
 "nbformat": 4,
 "nbformat_minor": 5
}
